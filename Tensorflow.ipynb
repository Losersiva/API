{
  "nbformat": 4,
  "nbformat_minor": 0,
  "metadata": {
    "colab": {
      "name": "Tensorflow.ipynb",
      "provenance": [],
      "private_outputs": true,
      "collapsed_sections": [],
      "mount_file_id": "1C8CZG5fMRg9_sQM4tNO1TBJj895qeP27",
      "authorship_tag": "ABX9TyM1E3Y/SW5toah4aN59cI5P",
      "include_colab_link": true
    },
    "kernelspec": {
      "name": "python3",
      "display_name": "Python 3"
    }
  },
  "cells": [
    {
      "cell_type": "markdown",
      "metadata": {
        "id": "view-in-github",
        "colab_type": "text"
      },
      "source": [
        "<a href=\"https://colab.research.google.com/github/engineerscodes/apisss/blob/master/Tensorflow.ipynb\" target=\"_parent\"><img src=\"https://colab.research.google.com/assets/colab-badge.svg\" alt=\"Open In Colab\"/></a>"
      ]
    },
    {
      "cell_type": "code",
      "metadata": {
        "id": "XT_aVwlcxN3T",
        "colab_type": "code",
        "colab": {}
      },
      "source": [
        "import tensorflow as tf\n",
        "print(tf.__version__)"
      ],
      "execution_count": null,
      "outputs": []
    },
    {
      "cell_type": "code",
      "metadata": {
        "id": "6NeWaeJqx5Dd",
        "colab_type": "code",
        "colab": {}
      },
      "source": [
        "!ls"
      ],
      "execution_count": null,
      "outputs": []
    },
    {
      "cell_type": "code",
      "metadata": {
        "id": "5xP45VBSyMce",
        "colab_type": "code",
        "colab": {}
      },
      "source": [
        "!ls sample_data"
      ],
      "execution_count": null,
      "outputs": []
    },
    {
      "cell_type": "code",
      "metadata": {
        "id": "BwwdDh-UyeHP",
        "colab_type": "code",
        "colab": {}
      },
      "source": [
        " !wget https://archive.ics.uci.edu/ml/machine-learning-databases/arrhythmia/arrhythmia.data"
      ],
      "execution_count": null,
      "outputs": []
    },
    {
      "cell_type": "code",
      "metadata": {
        "id": "pVJ3aE860Jfp",
        "colab_type": "code",
        "colab": {}
      },
      "source": [
        "!ls"
      ],
      "execution_count": null,
      "outputs": []
    },
    {
      "cell_type": "markdown",
      "metadata": {
        "id": "YpylN2Om1WPR",
        "colab_type": "text"
      },
      "source": [
        "**To check if the the data set has header**"
      ]
    },
    {
      "cell_type": "code",
      "metadata": {
        "id": "ymP3S4cl0ebr",
        "colab_type": "code",
        "colab": {}
      },
      "source": [
        "!head arrhythmia.data "
      ],
      "execution_count": null,
      "outputs": []
    },
    {
      "cell_type": "code",
      "metadata": {
        "id": "KxvTIxn60x9p",
        "colab_type": "code",
        "colab": {}
      },
      "source": [
        " import pandas as pd\n",
        " print(pd.__version__)"
      ],
      "execution_count": null,
      "outputs": []
    },
    {
      "cell_type": "markdown",
      "metadata": {
        "id": "wOHnBaQ91rhs",
        "colab_type": "text"
      },
      "source": [
        "**To load files to Csv Formate bold text**\n",
        "\n"
      ]
    },
    {
      "cell_type": "code",
      "metadata": {
        "id": "yERbabHG1-cx",
        "colab_type": "code",
        "colab": {}
      },
      "source": [
        "df=pd.read_csv('arrhythmia.data' ,header=None)"
      ],
      "execution_count": null,
      "outputs": []
    },
    {
      "cell_type": "code",
      "metadata": {
        "id": "Gtz5cnYQ2hi2",
        "colab_type": "code",
        "colab": {}
      },
      "source": [
        "df.shape"
      ],
      "execution_count": null,
      "outputs": []
    },
    {
      "cell_type": "markdown",
      "metadata": {
        "id": "G5op3h8F3QZq",
        "colab_type": "text"
      },
      "source": [
        "***Adding Header to DataFrame***\n",
        "\n"
      ]
    },
    {
      "cell_type": "code",
      "metadata": {
        "id": "jMFxEKmo2zrP",
        "colab_type": "code",
        "colab": {}
      },
      "source": [
        "data=df[[0,1,2,3,4,5]]\n",
        "data.columns=['Age','Sex','Heigth','Weight','QRS duration','P-R Interval']\n",
        "print(data)"
      ],
      "execution_count": null,
      "outputs": []
    },
    {
      "cell_type": "code",
      "metadata": {
        "id": "EKJ3QG6o4vUm",
        "colab_type": "code",
        "colab": {}
      },
      "source": [
        "import matplotlib.pyplot as plt\n",
        "plt.rcParams[\"figure.figsize\"]=[15,15]\n",
        "data.hist()"
      ],
      "execution_count": null,
      "outputs": []
    },
    {
      "cell_type": "code",
      "metadata": {
        "id": "yMWmE2xuIWzU",
        "colab_type": "code",
        "colab": {}
      },
      "source": [
        "from pandas.plotting import scatter_matrix\n",
        "scatter_matrix(data)"
      ],
      "execution_count": null,
      "outputs": []
    },
    {
      "cell_type": "markdown",
      "metadata": {
        "id": "Hj90PlArOi9q",
        "colab_type": "text"
      },
      "source": [
        "**KERAS**"
      ]
    },
    {
      "cell_type": "code",
      "metadata": {
        "id": "hPtg48klOec6",
        "colab_type": "code",
        "colab": {}
      },
      "source": [
        "url=\"https://archive.ics.uci.edu/ml/machine-learning-databases/auto-mpg/auto-mpg.data\""
      ],
      "execution_count": null,
      "outputs": []
    },
    {
      "cell_type": "code",
      "metadata": {
        "id": "3zp80sshPonv",
        "colab_type": "code",
        "colab": {}
      },
      "source": [
        "tf.keras.utils.get_file(\"/content/auto-mpg.data\",url)"
      ],
      "execution_count": null,
      "outputs": []
    },
    {
      "cell_type": "code",
      "metadata": {
        "id": "2hSAouD0RAVt",
        "colab_type": "code",
        "colab": {}
      },
      "source": [
        "!head auto-mpg.data"
      ],
      "execution_count": null,
      "outputs": []
    },
    {
      "cell_type": "code",
      "metadata": {
        "id": "reM7DNFiRtJj",
        "colab_type": "code",
        "colab": {}
      },
      "source": [
        "df1=pd.read_csv(\"auto-mpg.data\",header=None,delim_whitespace=True)\n",
        "df1.head()"
      ],
      "execution_count": null,
      "outputs": []
    },
    {
      "cell_type": "markdown",
      "metadata": {
        "id": "jzsjoC2dTl-k",
        "colab_type": "text"
      },
      "source": [
        "UPLOAD TO DRIVE"
      ]
    },
    {
      "cell_type": "code",
      "metadata": {
        "id": "OEtjrasgTU9H",
        "colab_type": "code",
        "colab": {}
      },
      "source": [
        "from google.colab import files\n",
        "filess=files.upload()"
      ],
      "execution_count": null,
      "outputs": []
    },
    {
      "cell_type": "code",
      "metadata": {
        "id": "axiUcpd4Vi4P",
        "colab_type": "code",
        "colab": {}
      },
      "source": [
        "d=pd.read_csv(\"arrhythmia (1).data\",header=None)"
      ],
      "execution_count": null,
      "outputs": []
    },
    {
      "cell_type": "code",
      "metadata": {
        "id": "8hGxDYQhWgyZ",
        "colab_type": "code",
        "colab": {}
      },
      "source": [
        "d.head()"
      ],
      "execution_count": null,
      "outputs": []
    },
    {
      "cell_type": "code",
      "metadata": {
        "id": "kAmd5tJzUuVH",
        "colab_type": "code",
        "colab": {}
      },
      "source": [
        "from google.colab import drive\n",
        "drive.mount('/content/grive')"
      ],
      "execution_count": null,
      "outputs": []
    },
    {
      "cell_type": "code",
      "metadata": {
        "id": "xKoDo5LaVS91",
        "colab_type": "code",
        "colab": {}
      },
      "source": [
        ""
      ],
      "execution_count": null,
      "outputs": []
    }
  ]
}